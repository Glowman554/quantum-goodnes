{
 "cells": [
  {
   "cell_type": "code",
   "execution_count": 1,
   "metadata": {},
   "outputs": [],
   "source": [
    "import dwavebinarycsp as dbc\n",
    "from dwave.system import EmbeddingComposite, DWaveSampler"
   ]
  },
  {
   "cell_type": "code",
   "execution_count": 2,
   "metadata": {},
   "outputs": [],
   "source": [
    "def to_base_ten(sample):\n",
    "    a = b = 0\n",
    "    \n",
    "    # we know that multiplication_circuit() has created these variables\n",
    "    a_vars = ['a0', 'a1', 'a2']\n",
    "    b_vars = ['b0', 'b1', 'b2']\n",
    "    \n",
    "    for lbl in reversed(a_vars):\n",
    "        a = (a << 1) | sample[lbl]\n",
    "    for lbl in reversed(b_vars):\n",
    "        b = (b << 1) | sample[lbl] \n",
    "        \n",
    "    return a,b"
   ]
  },
  {
   "cell_type": "code",
   "execution_count": 7,
   "metadata": {},
   "outputs": [],
   "source": [
    "def factor(P):\n",
    "    bP = \"{:06b}\".format(P)\n",
    "    csp = dbc.factories.multiplication_circuit(3)\n",
    "    bqm = dbc.stitch(csp, min_classical_gap=.1)\n",
    "    p_vars = ['p0', 'p1', 'p2', 'p3', 'p4', 'p5']\n",
    "    fixed_variables = dict(zip(reversed(p_vars), bP))\n",
    "    fixed_variables = {var: int(x) for(var, x) in fixed_variables.items()}\n",
    "    for var, value in fixed_variables.items():\n",
    "        bqm.fix_variable(var, value)\n",
    "        \n",
    "    sampler = EmbeddingComposite(DWaveSampler(solver={'qpu': True}))\n",
    "    sampleset = sampler.sample(bqm, num_reads = 1000)\n",
    "    a, b = to_base_ten(sampleset.first.sample)\n",
    "    print(\"Given integer P={0}, found factors a={1} and b={2}\".format(P, a, b))\n",
    "    return a, b"
   ]
  },
  {
   "cell_type": "code",
   "execution_count": 15,
   "metadata": {},
   "outputs": [
    {
     "name": "stdout",
     "output_type": "stream",
     "text": [
      "Given integer P=1, found factors a=1 and b=1\n",
      "The solution is correct\n",
      "Given integer P=4, found factors a=2 and b=2\n",
      "The solution is correct\n",
      "Given integer P=9, found factors a=3 and b=3\n",
      "The solution is correct\n",
      "Given integer P=16, found factors a=4 and b=4\n",
      "The solution is correct\n",
      "Given integer P=25, found factors a=5 and b=5\n",
      "The solution is correct\n",
      "Given integer P=36, found factors a=6 and b=6\n",
      "The solution is correct\n",
      "Given integer P=49, found factors a=7 and b=7\n",
      "The solution is correct\n"
     ]
    }
   ],
   "source": [
    "for i in range(1, 8):\n",
    "    a, b = factor(i*i)\n",
    "    if a*b == i*i:\n",
    "        print(\"The solution is correct\")"
   ]
  }
 ],
 "metadata": {
  "kernelspec": {
   "display_name": "Python 3",
   "language": "python",
   "name": "python3"
  },
  "language_info": {
   "codemirror_mode": {
    "name": "ipython",
    "version": 3
   },
   "file_extension": ".py",
   "mimetype": "text/x-python",
   "name": "python",
   "nbconvert_exporter": "python",
   "pygments_lexer": "ipython3",
   "version": "3.6.7"
  },
  "toc": {
   "base_numbering": 1,
   "nav_menu": {},
   "number_sections": true,
   "sideBar": true,
   "skip_h1_title": false,
   "title_cell": "Table of Contents",
   "title_sidebar": "Contents",
   "toc_cell": false,
   "toc_position": {},
   "toc_section_display": true,
   "toc_window_display": false
  }
 },
 "nbformat": 4,
 "nbformat_minor": 2
}
