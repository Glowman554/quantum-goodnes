{
 "cells": [
  {
   "cell_type": "code",
   "execution_count": 1,
   "metadata": {},
   "outputs": [
    {
     "data": {
      "text/plain": [
       "<AccountProvider for IBMQ(hub='ibm-q', group='open', project='main')>"
      ]
     },
     "execution_count": 1,
     "metadata": {},
     "output_type": "execute_result"
    }
   ],
   "source": [
    "%matplotlib inline\n",
    "import numpy as np\n",
    "from qiskit import *\n",
    "from qiskit import IBMQ\n",
    "from qiskit.tools.monitor import job_monitor\n",
    "from qiskit.visualization import plot_histogram\n",
    "from qiskit.extensions import Initialize\n",
    "from qiskit_textbook.tools import random_state, array_to_latex\n",
    "\n",
    "def list_backends():\n",
    "    provider = IBMQ.get_provider(\"ibm-q\")\n",
    "    for backend in provider.backends():\n",
    "        try:\n",
    "            qubit_count = len(backend.properties().qubits)\n",
    "        except:\n",
    "            qubit_count = \"simulated\"\n",
    "        \n",
    "        print(backend.name(), \"has\", backend.status().pending_jobs, \"qued and\", qubit_count, \"qubits\")\n",
    "\n",
    "def run(b, circuit):\n",
    "    provider = IBMQ.get_provider(\"ibm-q\")\n",
    "    backend = provider.get_backend(b)\n",
    "    job = execute(circuit, backend=backend, shots=1000)\n",
    "    job_monitor(job)\n",
    "    return(job)\n",
    "IBMQ.load_account()"
   ]
  },
  {
   "cell_type": "code",
   "execution_count": 2,
   "metadata": {},
   "outputs": [
    {
     "data": {
      "text/latex": [
       "$\\displaystyle \n",
       "|\\psi\\rangle =\\begin{bmatrix}\n",
       "-0.11017 - 0.70748i \\\\\n",
       "-0.16274 + 0.67886i\n",
       "\\end{bmatrix}\n",
       "$"
      ],
      "text/plain": [
       "<IPython.core.display.Math object>"
      ]
     },
     "metadata": {},
     "output_type": "display_data"
    },
    {
     "data": {
      "image/png": "[encoded data removed]",
      "text/plain": [
       "<Figure size 1502.59x264.88 with 1 Axes>"
      ]
     },
     "execution_count": 2,
     "metadata": {},
     "output_type": "execute_result"
    }
   ],
   "source": [
    "def create_bell_pair(qc, a, b):\n",
    "    \"\"\"Creates a bell pair in qc using qubits a & b\"\"\"\n",
    "    qc.h(a) # Put qubit a into state |+>\n",
    "    qc.cx(a,b) # CNOT with a as control and b as target\n",
    "\n",
    "def alice_gates(qc, psi, a):\n",
    "    qc.cx(psi, a)\n",
    "    qc.h(psi)\n",
    "    \n",
    "def measure_and_send(qc, a, b):\n",
    "    \"\"\"Measures qubits a & b and 'sends' the results to Bob\"\"\"\n",
    "    qc.barrier()\n",
    "    qc.measure(a,0)\n",
    "    qc.measure(b,1)\n",
    "    \n",
    "# This function takes a QuantumCircuit (qc), integer (qubit)\n",
    "# and ClassicalRegisters (crz & crx) to decide which gates to apply\n",
    "def bob_gates(qc, qubit, crz, crx):\n",
    "    # Here we use c_if to control our gates with a classical\n",
    "    # bit instead of a qubit\n",
    "    qc.x(qubit).c_if(crx, 1) # Apply gates if the registers \n",
    "    qc.z(qubit).c_if(crz, 1) # are in the state '1'\n",
    "    \n",
    "def new_bob_gates(qc, a, b, c):\n",
    "    qc.cz(a, c)\n",
    "    qc.cx(b, c)\n",
    "    \n",
    "# Create random 1-qubit state\n",
    "psi = random_state(1)\n",
    "\n",
    "array_to_latex(psi, pretext=\"|\\\\psi\\\\rangle =\")\n",
    "init_gate = Initialize(psi)\n",
    "init_gate.label = \"init\"\n",
    "inverse_init_gate = init_gate.gates_to_uncompute()\n",
    "\n",
    "qc = QuantumCircuit(3,1)\n",
    "\n",
    "# First, let's initialise Alice's q0\n",
    "qc.append(init_gate, [0])\n",
    "qc.barrier()\n",
    "\n",
    "# Now begins the teleportation protocol\n",
    "create_bell_pair(qc, 1, 2)\n",
    "qc.barrier()\n",
    "# Send q1 to Alice and q2 to Bob\n",
    "alice_gates(qc, 0, 1)\n",
    "qc.barrier()\n",
    "# Alice sends classical bits to Bob\n",
    "new_bob_gates(qc, 0, 1, 2)\n",
    "\n",
    "# We undo the initialisation process\n",
    "qc.append(inverse_init_gate, [2])\n",
    "\n",
    "# See the results, we only care about the state of qubit 2\n",
    "qc.measure(2,0)\n",
    "\n",
    "# View the results:\n",
    "qc.draw()"
   ]
  },
  {
   "cell_type": "code",
   "execution_count": 3,
   "metadata": {
    "scrolled": true
   },
   "outputs": [
    {
     "name": "stdout",
     "output_type": "stream",
     "text": [
      "Job Status: job has successfully run\n"
     ]
    },
    {
     "data": {
      "image/png": "[encoded data removed]",
      "text/plain": [
       "<Figure size 504x360 with 1 Axes>"
      ]
     },
     "execution_count": 3,
     "metadata": {},
     "output_type": "execute_result"
    }
   ],
   "source": [
    "job = run(\"ibmqx2\", qc)\n",
    "\n",
    "result = job.result()\n",
    "counts = result.get_counts(qc)\n",
    "plot_histogram([counts])"
   ]
  },
  {
   "cell_type": "code",
   "execution_count": null,
   "metadata": {},
   "outputs": [],
   "source": []
  }
 ],
 "metadata": {
  "kernelspec": {
   "display_name": "Python 3",
   "language": "python",
   "name": "python3"
  },
  "language_info": {
   "codemirror_mode": {
    "name": "ipython",
    "version": 3
   },
   "file_extension": ".py",
   "mimetype": "text/x-python",
   "name": "python",
   "nbconvert_exporter": "python",
   "pygments_lexer": "ipython3",
   "version": "3.7.7"
  }
 },
 "nbformat": 4,
 "nbformat_minor": 4
}
