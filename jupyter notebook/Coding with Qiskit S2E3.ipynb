{
 "cells": [
  {
   "cell_type": "code",
   "execution_count": 5,
   "metadata": {},
   "outputs": [
    {
     "name": "stdout",
     "output_type": "stream",
     "text": [
      "Winner Found at index 9\n",
      "10 calls to the oracale used\n"
     ]
    }
   ],
   "source": [
    "list = [1, 3, 5, 2, 4, 9, 5, 8, 0, 7, 6]\n",
    "\n",
    "def oracale(input):\n",
    "    winner = 7\n",
    "    if input == winner:\n",
    "        return True\n",
    "    else:\n",
    "        return False\n",
    "    \n",
    "for index, trial_number in enumerate(list):\n",
    "    if oracale(trial_number):\n",
    "        print(\"Winner Found at index {0}\".format(index))\n",
    "        print(\"{0} calls to the oracale used\".format(index + 1))\n",
    "        break"
   ]
  },
  {
   "cell_type": "code",
   "execution_count": 7,
   "metadata": {},
   "outputs": [],
   "source": [
    "from qiskit import *\n",
    "import matplotlib.pyplot as plt\n",
    "import numpy as np"
   ]
  },
  {
   "cell_type": "code",
   "execution_count": 23,
   "metadata": {},
   "outputs": [
    {
     "data": {
      "image/png": "[encoded data removed]",
      "text/plain": [
       "<Figure size 200.832x144.48 with 1 Axes>"
      ]
     },
     "execution_count": 23,
     "metadata": {},
     "output_type": "execute_result"
    }
   ],
   "source": [
    "# define the oracale circuit\n",
    "\n",
    "oracale = QuantumCircuit(2, name=\"oracale\")\n",
    "oracale.cz(0, 1)\n",
    "oracale.to_gate()\n",
    "oracale.draw(\"mpl\")"
   ]
  },
  {
   "cell_type": "code",
   "execution_count": 25,
   "metadata": {},
   "outputs": [
    {
     "data": {
      "image/png": "[encoded data removed]",
      "text/plain": [
       "<Figure size 381.432x144.48 with 1 Axes>"
      ]
     },
     "execution_count": 25,
     "metadata": {},
     "output_type": "execute_result"
    }
   ],
   "source": [
    "reflection = QuantumCircuit(2, name=\"reflection\")\n",
    "reflection.h([0, 1])\n",
    "reflection.z([0, 1])\n",
    "reflection.cz(0, 1)\n",
    "reflection.h([0, 1])\n",
    "reflection.to_gate()\n",
    "reflection.draw(\"mpl\")"
   ]
  },
  {
   "cell_type": "code",
   "execution_count": 30,
   "metadata": {},
   "outputs": [
    {
     "data": {
      "image/png": "[encoded data removed]",
      "text/plain": [
       "<Figure size 562.032x204.68 with 1 Axes>"
      ]
     },
     "execution_count": 30,
     "metadata": {},
     "output_type": "execute_result"
    }
   ],
   "source": [
    "backend = Aer.get_backend(\"qasm_simulator\")\n",
    "grover_circ = QuantumCircuit(2, 2)\n",
    "grover_circ.h([0, 1])\n",
    "grover_circ.append(oracale, [0, 1])\n",
    "grover_circ.append(reflection, [0, 1])\n",
    "grover_circ.measure([0, 1], [0, 1])\n",
    "grover_circ.draw(\"mpl\")"
   ]
  },
  {
   "cell_type": "code",
   "execution_count": 31,
   "metadata": {},
   "outputs": [
    {
     "name": "stdout",
     "output_type": "stream",
     "text": [
      "{'11': 1024}\n"
     ]
    }
   ],
   "source": [
    "job = execute(grover_circ, backend)\n",
    "result = job.result()\n",
    "counts = result.get_counts()\n",
    "print(counts)"
   ]
  }
 ],
 "metadata": {
  "kernelspec": {
   "display_name": "Python 3",
   "language": "python",
   "name": "python3"
  },
  "language_info": {
   "codemirror_mode": {
    "name": "ipython",
    "version": 3
   },
   "file_extension": ".py",
   "mimetype": "text/x-python",
   "name": "python",
   "nbconvert_exporter": "python",
   "pygments_lexer": "ipython3",
   "version": "3.7.7"
  }
 },
 "nbformat": 4,
 "nbformat_minor": 4
}
