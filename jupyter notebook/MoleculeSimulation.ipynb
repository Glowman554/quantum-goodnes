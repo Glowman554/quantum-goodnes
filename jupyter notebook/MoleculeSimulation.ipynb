{
 "cells": [
  {
   "cell_type": "code",
   "execution_count": 5,
   "metadata": {},
   "outputs": [],
   "source": [
    "import numpy as np\n",
    "import numpy as np\n",
    "import pylab\n",
    "import copy\n",
    "from qiskit import BasicAer, Aer\n",
    "from qiskit.aqua import aqua_globals, QuantumInstance\n",
    "from qiskit.aqua.algorithms import VQE\n",
    "from qiskit.aqua.components.optimizers import SLSQP\n",
    "from qiskit.chemistry.components.initial_states import HartreeFock\n",
    "from qiskit.chemistry.components.variational_forms import UCCSD\n",
    "from qiskit.chemistry.drivers import PySCFDriver\n",
    "from qiskit.chemistry.core import Hamiltonian, QubitMappingType\n",
    "from qiskit import IBMQ\n",
    "import matplotlib.pyplot as plt\n",
    "\n",
    "class MoleculeSimulation:\n",
    "    def __init__(self, molecule, distances, two_qubit_reduction=False, freeze_core=False, orbital_reduction=None):\n",
    "        self.molecule = molecule\n",
    "        self.distances = distances\n",
    "        self.two_qubit_reduction = two_qubit_reduction\n",
    "        self.freeze_core = freeze_core\n",
    "        self.orbital_reduction = orbital_reduction\n",
    "        self.vqe_energies = []\n",
    "        self.hf_energies = []\n",
    "        \n",
    "    def run(self, instance, verbose=False):\n",
    "        for i, d in enumerate(self.distances):\n",
    "            print(\"Simulation step\", i, \"simulating molecule: \", self.molecule.format(d))\n",
    "            if verbose:\n",
    "                print(\"PySCFDriver\")\n",
    "            driver = PySCFDriver(self.molecule.format(d), basis=\"sto3g\")\n",
    "            if verbose:\n",
    "                print(\"driver.run\")\n",
    "            qmolecule = driver.run()\n",
    "            if verbose:\n",
    "                print(\"Hamiltonian\")\n",
    "            operator = Hamiltonian(qubit_mapping=QubitMappingType.PARITY, \n",
    "                                   two_qubit_reduction=self.two_qubit_reduction, \n",
    "                                   freeze_core=self.freeze_core, \n",
    "                                   orbital_reduction=self.orbital_reduction)\n",
    "            if verbose:\n",
    "                print(\"Hamiltonian.run\")\n",
    "            qubit_op, aux_ops = operator.run(qmolecule)\n",
    "            if verbose:\n",
    "                print(\"SLSQP\")\n",
    "            optimizer = SLSQP(maxiter=100)\n",
    "            \n",
    "            if verbose:\n",
    "                print(\"HartreeFock\")\n",
    "            initial_state = HartreeFock(operator.molecule_info[\"num_orbitals\"], \n",
    "                                        operator.molecule_info[\"num_particles\"], \n",
    "                                        \"parity\", \n",
    "                                        two_qubit_reduction=self.two_qubit_reduction)\n",
    "            if verbose:\n",
    "                print(\"UCCSD\")\n",
    "            var_form = UCCSD(num_orbitals=operator.molecule_info[\"num_orbitals\"], \n",
    "                             num_particles=operator.molecule_info[\"num_particles\"], \n",
    "                             initial_state=initial_state, \n",
    "                             qubit_mapping=\"parity\", \n",
    "                             two_qubit_reduction=self.two_qubit_reduction)\n",
    "            if verbose:\n",
    "                print(\"VQE\")\n",
    "            algo = VQE(qubit_op, var_form, optimizer, aux_operators=aux_ops)\n",
    "            if verbose:\n",
    "                print(\"VQE.run\")\n",
    "            vqe_result = algo.run(instance)\n",
    "            if verbose:\n",
    "                print(\"Hamiltonian.process_algorithm_result\")\n",
    "            vqe_result_processed = operator.process_algorithm_result(vqe_result)\n",
    "\n",
    "            self.vqe_energies.append(vqe_result_processed.energy)\n",
    "            self.hf_energies.append(vqe_result_processed.hartree_fock_energy)\n",
    "    def plot(self):\n",
    "        plt.plot(self.distances, self.vqe_energies, label=\"VQE Energy\")\n",
    "        plt.plot(self.distances, self.hf_energies, label=\"Hartree Fock Energy\")\n",
    "        plt.xlabel('Atomic distance (Angstrom)')\n",
    "        plt.ylabel('Energy')\n",
    "        plt.legend()\n",
    "        plt.show()"
   ]
  },
  {
   "cell_type": "code",
   "execution_count": 7,
   "metadata": {},
   "outputs": [
    {
     "name": "stdout",
     "output_type": "stream",
     "text": [
      "Simulation step 0 simulating molecule:  H .0 .0 .0; Li .0 .0 0.5\n",
      "PySCFDriver\n",
      "driver.run\n",
      "Hamiltonian\n",
      "Hamiltonian.run\n"
     ]
    },
    {
     "name": "stderr",
     "output_type": "stream",
     "text": [
      "/opt/conda/lib/python3.7/site-packages/ipykernel_launcher.py:40: DeprecationWarning: The Hamiltonian class is deprecated as of Qiskit Aqua 0.8.0 and will be removed no earlier than 3 months after the release date. Instead, the FermionicTransformation can be used.\n",
      "/opt/conda/lib/python3.7/site-packages/qiskit/chemistry/core/hamiltonian.py:91: DeprecationWarning: The ChemistryOperator is deprecated as of Qiskit Aqua 0.8.0 and will be removed no earlier than 3 months after the release date. Instead, the FermionicTransformation can be used to transform QMolecules and construct ground state result objects.\n",
      "  super().__init__()\n"
     ]
    },
    {
     "name": "stdout",
     "output_type": "stream",
     "text": [
      "SLSQP\n",
      "HartreeFock\n",
      "UCCSD\n",
      "VQE\n",
      "VQE.run\n",
      "Hamiltonian.process_algorithm_result\n",
      "Simulation step 1 simulating molecule:  H .0 .0 .0; Li .0 .0 1.0\n",
      "PySCFDriver\n",
      "driver.run\n"
     ]
    },
    {
     "name": "stderr",
     "output_type": "stream",
     "text": [
      "/opt/conda/lib/python3.7/site-packages/qiskit/chemistry/core/chemistry_operator.py:170: DeprecationWarning: The qiskit.chemistry.chemistry_operator.MolecularChemistryResult object is deprecated as of 0.8.0 and will be removed no sooner than 3 months after the release. You should use qiskit.chemistry.algorithms.ground_state_solvers.FermionicGroundStateResult instead.\n",
      "  super().__init__(a_dict)\n",
      "/opt/conda/lib/python3.7/site-packages/qiskit/chemistry/core/hamiltonian.py:380: DeprecationWarning: The qiskit.chemistry.chemistry_operator.MolecularGroundStateResult object is deprecated as of 0.8.0 and will be removed no sooner than 3 months after the release. You should use qiskit.chemistry.algorithms.ground_state_solvers.FermionicGroundStateResult instead.\n",
      "  mgsr = MolecularGroundStateResult()\n"
     ]
    },
    {
     "name": "stdout",
     "output_type": "stream",
     "text": [
      "Hamiltonian\n",
      "Hamiltonian.run\n"
     ]
    },
    {
     "name": "stderr",
     "output_type": "stream",
     "text": [
      "/opt/conda/lib/python3.7/site-packages/ipykernel_launcher.py:40: DeprecationWarning: The Hamiltonian class is deprecated as of Qiskit Aqua 0.8.0 and will be removed no earlier than 3 months after the release date. Instead, the FermionicTransformation can be used.\n",
      "/opt/conda/lib/python3.7/site-packages/qiskit/chemistry/core/hamiltonian.py:91: DeprecationWarning: The ChemistryOperator is deprecated as of Qiskit Aqua 0.8.0 and will be removed no earlier than 3 months after the release date. Instead, the FermionicTransformation can be used to transform QMolecules and construct ground state result objects.\n",
      "  super().__init__()\n"
     ]
    },
    {
     "name": "stdout",
     "output_type": "stream",
     "text": [
      "SLSQP\n",
      "HartreeFock\n",
      "UCCSD\n",
      "VQE\n",
      "VQE.run\n",
      "Hamiltonian.process_algorithm_result\n",
      "Simulation step 2 simulating molecule:  H .0 .0 .0; Li .0 .0 1.5\n",
      "PySCFDriver\n",
      "driver.run\n"
     ]
    },
    {
     "name": "stderr",
     "output_type": "stream",
     "text": [
      "/opt/conda/lib/python3.7/site-packages/qiskit/chemistry/core/chemistry_operator.py:170: DeprecationWarning: The qiskit.chemistry.chemistry_operator.MolecularChemistryResult object is deprecated as of 0.8.0 and will be removed no sooner than 3 months after the release. You should use qiskit.chemistry.algorithms.ground_state_solvers.FermionicGroundStateResult instead.\n",
      "  super().__init__(a_dict)\n",
      "/opt/conda/lib/python3.7/site-packages/qiskit/chemistry/core/hamiltonian.py:380: DeprecationWarning: The qiskit.chemistry.chemistry_operator.MolecularGroundStateResult object is deprecated as of 0.8.0 and will be removed no sooner than 3 months after the release. You should use qiskit.chemistry.algorithms.ground_state_solvers.FermionicGroundStateResult instead.\n",
      "  mgsr = MolecularGroundStateResult()\n"
     ]
    },
    {
     "name": "stdout",
     "output_type": "stream",
     "text": [
      "Hamiltonian\n",
      "Hamiltonian.run\n"
     ]
    },
    {
     "name": "stderr",
     "output_type": "stream",
     "text": [
      "/opt/conda/lib/python3.7/site-packages/qiskit/chemistry/core/hamiltonian.py:91: DeprecationWarning: The ChemistryOperator is deprecated as of Qiskit Aqua 0.8.0 and will be removed no earlier than 3 months after the release date. Instead, the FermionicTransformation can be used to transform QMolecules and construct ground state result objects.\n",
      "  super().__init__()\n"
     ]
    },
    {
     "name": "stdout",
     "output_type": "stream",
     "text": [
      "SLSQP\n",
      "HartreeFock\n",
      "UCCSD\n",
      "VQE\n",
      "VQE.run\n",
      "Hamiltonian.process_algorithm_result\n",
      "Simulation step 3 simulating molecule:  H .0 .0 .0; Li .0 .0 2.0\n",
      "PySCFDriver\n",
      "driver.run\n"
     ]
    },
    {
     "name": "stderr",
     "output_type": "stream",
     "text": [
      "/opt/conda/lib/python3.7/site-packages/qiskit/chemistry/core/chemistry_operator.py:170: DeprecationWarning: The qiskit.chemistry.chemistry_operator.MolecularChemistryResult object is deprecated as of 0.8.0 and will be removed no sooner than 3 months after the release. You should use qiskit.chemistry.algorithms.ground_state_solvers.FermionicGroundStateResult instead.\n",
      "  super().__init__(a_dict)\n",
      "/opt/conda/lib/python3.7/site-packages/qiskit/chemistry/core/hamiltonian.py:380: DeprecationWarning: The qiskit.chemistry.chemistry_operator.MolecularGroundStateResult object is deprecated as of 0.8.0 and will be removed no sooner than 3 months after the release. You should use qiskit.chemistry.algorithms.ground_state_solvers.FermionicGroundStateResult instead.\n",
      "  mgsr = MolecularGroundStateResult()\n"
     ]
    },
    {
     "name": "stdout",
     "output_type": "stream",
     "text": [
      "Hamiltonian\n",
      "Hamiltonian.run\n"
     ]
    },
    {
     "name": "stderr",
     "output_type": "stream",
     "text": [
      "/opt/conda/lib/python3.7/site-packages/qiskit/chemistry/core/hamiltonian.py:91: DeprecationWarning: The ChemistryOperator is deprecated as of Qiskit Aqua 0.8.0 and will be removed no earlier than 3 months after the release date. Instead, the FermionicTransformation can be used to transform QMolecules and construct ground state result objects.\n",
      "  super().__init__()\n"
     ]
    },
    {
     "name": "stdout",
     "output_type": "stream",
     "text": [
      "SLSQP\n",
      "HartreeFock\n",
      "UCCSD\n",
      "VQE\n",
      "VQE.run\n",
      "Hamiltonian.process_algorithm_result\n",
      "Simulation step 4 simulating molecule:  H .0 .0 .0; Li .0 .0 2.5\n",
      "PySCFDriver\n",
      "driver.run\n"
     ]
    },
    {
     "name": "stderr",
     "output_type": "stream",
     "text": [
      "/opt/conda/lib/python3.7/site-packages/qiskit/chemistry/core/chemistry_operator.py:170: DeprecationWarning: The qiskit.chemistry.chemistry_operator.MolecularChemistryResult object is deprecated as of 0.8.0 and will be removed no sooner than 3 months after the release. You should use qiskit.chemistry.algorithms.ground_state_solvers.FermionicGroundStateResult instead.\n",
      "  super().__init__(a_dict)\n",
      "/opt/conda/lib/python3.7/site-packages/qiskit/chemistry/core/hamiltonian.py:380: DeprecationWarning: The qiskit.chemistry.chemistry_operator.MolecularGroundStateResult object is deprecated as of 0.8.0 and will be removed no sooner than 3 months after the release. You should use qiskit.chemistry.algorithms.ground_state_solvers.FermionicGroundStateResult instead.\n",
      "  mgsr = MolecularGroundStateResult()\n"
     ]
    },
    {
     "name": "stdout",
     "output_type": "stream",
     "text": [
      "Hamiltonian\n",
      "Hamiltonian.run\n"
     ]
    },
    {
     "name": "stderr",
     "output_type": "stream",
     "text": [
      "/opt/conda/lib/python3.7/site-packages/qiskit/chemistry/core/hamiltonian.py:91: DeprecationWarning: The ChemistryOperator is deprecated as of Qiskit Aqua 0.8.0 and will be removed no earlier than 3 months after the release date. Instead, the FermionicTransformation can be used to transform QMolecules and construct ground state result objects.\n",
      "  super().__init__()\n"
     ]
    },
    {
     "name": "stdout",
     "output_type": "stream",
     "text": [
      "SLSQP\n",
      "HartreeFock\n",
      "UCCSD\n",
      "VQE\n",
      "VQE.run\n",
      "Hamiltonian.process_algorithm_result\n",
      "Simulation step 5 simulating molecule:  H .0 .0 .0; Li .0 .0 3.0\n",
      "PySCFDriver\n",
      "driver.run\n"
     ]
    },
    {
     "name": "stderr",
     "output_type": "stream",
     "text": [
      "/opt/conda/lib/python3.7/site-packages/qiskit/chemistry/core/chemistry_operator.py:170: DeprecationWarning: The qiskit.chemistry.chemistry_operator.MolecularChemistryResult object is deprecated as of 0.8.0 and will be removed no sooner than 3 months after the release. You should use qiskit.chemistry.algorithms.ground_state_solvers.FermionicGroundStateResult instead.\n",
      "  super().__init__(a_dict)\n",
      "/opt/conda/lib/python3.7/site-packages/qiskit/chemistry/core/hamiltonian.py:380: DeprecationWarning: The qiskit.chemistry.chemistry_operator.MolecularGroundStateResult object is deprecated as of 0.8.0 and will be removed no sooner than 3 months after the release. You should use qiskit.chemistry.algorithms.ground_state_solvers.FermionicGroundStateResult instead.\n",
      "  mgsr = MolecularGroundStateResult()\n"
     ]
    },
    {
     "name": "stdout",
     "output_type": "stream",
     "text": [
      "Hamiltonian\n",
      "Hamiltonian.run\n"
     ]
    },
    {
     "name": "stderr",
     "output_type": "stream",
     "text": [
      "/opt/conda/lib/python3.7/site-packages/qiskit/chemistry/core/hamiltonian.py:91: DeprecationWarning: The ChemistryOperator is deprecated as of Qiskit Aqua 0.8.0 and will be removed no earlier than 3 months after the release date. Instead, the FermionicTransformation can be used to transform QMolecules and construct ground state result objects.\n",
      "  super().__init__()\n"
     ]
    },
    {
     "name": "stdout",
     "output_type": "stream",
     "text": [
      "SLSQP\n",
      "HartreeFock\n",
      "UCCSD\n",
      "VQE\n",
      "VQE.run\n",
      "Hamiltonian.process_algorithm_result\n",
      "Simulation step 6 simulating molecule:  H .0 .0 .0; Li .0 .0 3.5\n",
      "PySCFDriver\n",
      "driver.run\n"
     ]
    },
    {
     "name": "stderr",
     "output_type": "stream",
     "text": [
      "/opt/conda/lib/python3.7/site-packages/qiskit/chemistry/core/chemistry_operator.py:170: DeprecationWarning: The qiskit.chemistry.chemistry_operator.MolecularChemistryResult object is deprecated as of 0.8.0 and will be removed no sooner than 3 months after the release. You should use qiskit.chemistry.algorithms.ground_state_solvers.FermionicGroundStateResult instead.\n",
      "  super().__init__(a_dict)\n",
      "/opt/conda/lib/python3.7/site-packages/qiskit/chemistry/core/hamiltonian.py:380: DeprecationWarning: The qiskit.chemistry.chemistry_operator.MolecularGroundStateResult object is deprecated as of 0.8.0 and will be removed no sooner than 3 months after the release. You should use qiskit.chemistry.algorithms.ground_state_solvers.FermionicGroundStateResult instead.\n",
      "  mgsr = MolecularGroundStateResult()\n"
     ]
    },
    {
     "name": "stdout",
     "output_type": "stream",
     "text": [
      "Hamiltonian\n",
      "Hamiltonian.run\n"
     ]
    },
    {
     "name": "stderr",
     "output_type": "stream",
     "text": [
      "/opt/conda/lib/python3.7/site-packages/qiskit/chemistry/core/hamiltonian.py:91: DeprecationWarning: The ChemistryOperator is deprecated as of Qiskit Aqua 0.8.0 and will be removed no earlier than 3 months after the release date. Instead, the FermionicTransformation can be used to transform QMolecules and construct ground state result objects.\n",
      "  super().__init__()\n"
     ]
    },
    {
     "name": "stdout",
     "output_type": "stream",
     "text": [
      "SLSQP\n",
      "HartreeFock\n",
      "UCCSD\n",
      "VQE\n",
      "VQE.run\n",
      "Hamiltonian.process_algorithm_result\n",
      "Simulation step 7 simulating molecule:  H .0 .0 .0; Li .0 .0 4.0\n",
      "PySCFDriver\n",
      "driver.run\n"
     ]
    },
    {
     "name": "stderr",
     "output_type": "stream",
     "text": [
      "/opt/conda/lib/python3.7/site-packages/qiskit/chemistry/core/chemistry_operator.py:170: DeprecationWarning: The qiskit.chemistry.chemistry_operator.MolecularChemistryResult object is deprecated as of 0.8.0 and will be removed no sooner than 3 months after the release. You should use qiskit.chemistry.algorithms.ground_state_solvers.FermionicGroundStateResult instead.\n",
      "  super().__init__(a_dict)\n",
      "/opt/conda/lib/python3.7/site-packages/qiskit/chemistry/core/hamiltonian.py:380: DeprecationWarning: The qiskit.chemistry.chemistry_operator.MolecularGroundStateResult object is deprecated as of 0.8.0 and will be removed no sooner than 3 months after the release. You should use qiskit.chemistry.algorithms.ground_state_solvers.FermionicGroundStateResult instead.\n",
      "  mgsr = MolecularGroundStateResult()\n"
     ]
    },
    {
     "name": "stdout",
     "output_type": "stream",
     "text": [
      "Hamiltonian\n",
      "Hamiltonian.run\n"
     ]
    },
    {
     "name": "stderr",
     "output_type": "stream",
     "text": [
      "/opt/conda/lib/python3.7/site-packages/qiskit/chemistry/core/hamiltonian.py:91: DeprecationWarning: The ChemistryOperator is deprecated as of Qiskit Aqua 0.8.0 and will be removed no earlier than 3 months after the release date. Instead, the FermionicTransformation can be used to transform QMolecules and construct ground state result objects.\n",
      "  super().__init__()\n"
     ]
    },
    {
     "name": "stdout",
     "output_type": "stream",
     "text": [
      "SLSQP\n",
      "HartreeFock\n",
      "UCCSD\n",
      "VQE\n",
      "VQE.run\n",
      "Hamiltonian.process_algorithm_result\n"
     ]
    },
    {
     "name": "stderr",
     "output_type": "stream",
     "text": [
      "/opt/conda/lib/python3.7/site-packages/qiskit/chemistry/core/chemistry_operator.py:170: DeprecationWarning: The qiskit.chemistry.chemistry_operator.MolecularChemistryResult object is deprecated as of 0.8.0 and will be removed no sooner than 3 months after the release. You should use qiskit.chemistry.algorithms.ground_state_solvers.FermionicGroundStateResult instead.\n",
      "  super().__init__(a_dict)\n",
      "/opt/conda/lib/python3.7/site-packages/qiskit/chemistry/core/hamiltonian.py:380: DeprecationWarning: The qiskit.chemistry.chemistry_operator.MolecularGroundStateResult object is deprecated as of 0.8.0 and will be removed no sooner than 3 months after the release. You should use qiskit.chemistry.algorithms.ground_state_solvers.FermionicGroundStateResult instead.\n",
      "  mgsr = MolecularGroundStateResult()\n"
     ]
    }
   ],
   "source": [
    "molecule = \"H .0 .0 .0; Li .0 .0 {0}\"\n",
    "distances = np.arange(0.5, 4.5, 0.5)\n",
    "\n",
    "mc = MoleculeSimulation(molecule, distances, two_qubit_reduction=True, freeze_core=True, orbital_reduction=[-3, -2])\n",
    "mc.run(QuantumInstance(BasicAer.get_backend(\"statevector_simulator\")), verbose=True)"
   ]
  },
  {
   "cell_type": "code",
   "execution_count": 8,
   "metadata": {},
   "outputs": [
    {
     "data": {
      "image/png": "[encoded data removed]",
      "text/plain": [
       "<Figure size 432x288 with 1 Axes>"
      ]
     },
     "metadata": {
      "needs_background": "light"
     },
     "output_type": "display_data"
    }
   ],
   "source": [
    "mc.plot()"
   ]
  }
 ],
 "metadata": {
  "kernelspec": {
   "display_name": "Python 3",
   "language": "python",
   "name": "python3"
  },
  "language_info": {
   "codemirror_mode": {
    "name": "ipython",
    "version": 3
   },
   "file_extension": ".py",
   "mimetype": "text/x-python",
   "name": "python",
   "nbconvert_exporter": "python",
   "pygments_lexer": "ipython3",
   "version": "3.7.8"
  }
 },
 "nbformat": 4,
 "nbformat_minor": 4
}
