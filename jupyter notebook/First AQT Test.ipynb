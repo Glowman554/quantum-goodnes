{
 "cells": [
  {
   "cell_type": "code",
   "execution_count": 143,
   "metadata": {},
   "outputs": [
    {
     "name": "stdout",
     "output_type": "stream",
     "text": [
      "0: ───Rx(π)───Ry(-0.5π)───PhX(-0.5)^0.5───Z───MS(-0.25π)───PhX(-0.5)^0.5───S───Z───Rx(π)───Ry(-0.5π)───Z───PhX(-0.5)^0.5───Z───MS(-0.25π)───PhX(-0.5)^0.5───S───Rx(π)───Ry(-0.5π)───\n",
      "                                              │                                                                                │\n",
      "1: ───Rx(π)───Ry(-0.5π)───PhX(0.5)^0.5────Z───MS(-0.25π)───PhX(0.5)^0.5────S───Z───Rx(π)───Ry(-0.5π)───Z───PhX(0.5)^0.5────Z───MS(-0.25π)───PhX(0.5)^0.5────S───Rx(π)───Ry(-0.5π)───\n"
     ]
    }
   ],
   "source": [
    "import cirq\n",
    "from cirq import H, X, Z, CZ, CX\n",
    "from cirq.aqt.aqt_device import get_aqt_device\n",
    "from cirq.aqt.aqt_sampler import AQTSampler\n",
    "\n",
    "with open(\"C:/tokens.txt\", \"r\") as file:\n",
    "    token = file.read().split(\"\\n\")[1]\n",
    "    \n",
    "device, q = get_aqt_device(2)\n",
    "\n",
    "c = cirq.Circuit(device=device)\n",
    "\n",
    "oracale = [\n",
    "    CZ(q[0], q[1]),\n",
    "    Z(q[0]), Z(q[1])\n",
    "]\n",
    "\n",
    "reflection = [\n",
    "    H(q[0]), H(q[1]),\n",
    "    Z(q[0]), Z(q[1]),\n",
    "    CZ(q[0], q[1]),\n",
    "    H(q[0]), H(q[1]),\n",
    "]\n",
    "\n",
    "grover = [\n",
    "    H(q[0]), H(q[1]),\n",
    "    oracale,\n",
    "    reflection\n",
    "]\n",
    "\n",
    "c.append(grover)\n",
    "\n",
    "\n",
    "print(c)\n",
    "device.validate_circuit(c)\n"
   ]
  },
  {
   "cell_type": "code",
   "execution_count": 148,
   "metadata": {},
   "outputs": [
    {
     "name": "stdout",
     "output_type": "stream",
     "text": [
      "0000000000\n",
      "0000000000\n"
     ]
    }
   ],
   "source": [
    "url = 'https://gateway.aqt.eu/marmot/sim'\n",
    "aqt_sampler = AQTSampler(url, access_token=token)\n",
    "aqt_sweep = aqt_sampler.run(c, repetitions=10)\n",
    "\n",
    "string = str(aqt_sweep).replace(\"m=\", \"\").split(\", \")\n",
    "for i in string:\n",
    "    print(i)"
   ]
  }
 ],
 "metadata": {
  "kernelspec": {
   "display_name": "Python 3",
   "language": "python",
   "name": "python3"
  },
  "language_info": {
   "codemirror_mode": {
    "name": "ipython",
    "version": 3
   },
   "file_extension": ".py",
   "mimetype": "text/x-python",
   "name": "python",
   "nbconvert_exporter": "python",
   "pygments_lexer": "ipython3",
   "version": "3.7.7"
  }
 },
 "nbformat": 4,
 "nbformat_minor": 4
}
