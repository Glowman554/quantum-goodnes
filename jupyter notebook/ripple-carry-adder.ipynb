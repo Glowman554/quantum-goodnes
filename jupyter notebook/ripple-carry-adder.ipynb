{
  "cells": [
    {
      "cell_type": "code",
      "execution_count": 2,
      "metadata": {
        "trusted": true
      },
      "outputs": [
        {
          "data": {
            "text/plain": "<AccountProvider for IBMQ(hub='ibm-q', group='open', project='main')>"
          },
          "execution_count": 2,
          "metadata": {},
          "output_type": "execute_result"
        }
      ],
      "source": "from qiskit import IBMQ, QuantumCircuit, execute, QuantumRegister, ClassicalRegister\nfrom qiskit.tools import job_monitor\n\nIBMQ.load_account()"
    },
    {
      "cell_type": "code",
      "execution_count": 8,
      "metadata": {
        "trusted": true
      },
      "outputs": [
        {
          "data": {
            "image/png": "[encoded data removed]",
            "text/plain": "<Figure size 270.9x686.28 with 1 Axes>"
          },
          "execution_count": 8,
          "metadata": {},
          "output_type": "execute_result"
        }
      ],
      "source": "cin = QuantumRegister(1, \"cin\")\na = QuantumRegister(4, \"a\")\nb = QuantumRegister(4, \"b\")\ncout = QuantumRegister(1, \"cout\")\nans = ClassicalRegister(5, \"ans\")\n\nq = QuantumCircuit()\nq.add_register(cin)\nq.add_register(a)\nq.add_register(b)\nq.add_register(cout)\nq.add_register(ans)\n\n#init values to add\nq.x(a[1])\nq.x(b)\n\n\nq.draw(output=\"mpl\")"
    },
    {
      "cell_type": "code",
      "execution_count": null,
      "metadata": {
        "trusted": true
      },
      "outputs": [
        {
          "name": "stdout",
          "output_type": "stream",
          "text": "Job Status: job is queued (272)   "
        }
      ],
      "source": "provider = IBMQ.get_provider(\"ibm-q\")\nbackend = provider.get_backend(\"ibmqx2\")\njob = execute(q, backend=backend, shots=500)\njob_monitor(job)"
    },
    {
      "cell_type": "code",
      "execution_count": null,
      "metadata": {
        "trusted": true
      },
      "outputs": [],
      "source": "from qiskit.visualization import plot_histogram\n\nresult = job.result()\ncounts = result.get_counts(q)\n\nplot_histogram([counts])"
    },
    {
      "cell_type": "code",
      "execution_count": null,
      "metadata": {
        "trusted": true
      },
      "outputs": [],
      "source": ""
    }
  ],
  "metadata": {
    "kernelspec": {
      "display_name": "Python 3",
      "language": "python",
      "name": "python3"
    },
    "language_info": {
      "codemirror_mode": {
        "name": "ipython",
        "version": 3
      },
      "file_extension": ".py",
      "mimetype": "text/x-python",
      "name": "python",
      "nbconvert_exporter": "python",
      "pygments_lexer": "ipython3",
      "version": "3.7.6"
    }
  },
  "nbformat": 4,
  "nbformat_minor": 4
}