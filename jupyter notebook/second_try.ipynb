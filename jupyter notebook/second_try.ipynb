{
  "cells": [
    {
      "cell_type": "code",
      "execution_count": null,
      "metadata": {
        "trusted": true
      },
      "outputs": [
        {
          "name": "stderr",
          "output_type": "stream",
          "text": "/opt/conda/lib/python3.7/site-packages/qiskit/providers/ibmq/ibmqfactory.py:192: UserWarning: Timestamps in IBMQ backend properties, jobs, and job results are all now in local time instead of UTC.\n  warnings.warn('Timestamps in IBMQ backend properties, jobs, and job results '\n"
        }
      ],
      "source": "import qiskit as q\nfrom qiskit import IBMQ\n\n%matplotlib inline\nprovider = IBMQ.load_account()\n\ncircuit = q.QuantumCircuit(2,2) # 2 qubits 2 clasical bits\n# currently: 0,0\ncircuit.h(0)\n# 1,0\ncircuit.cx(0, 1) # cnot flips 2nd qubit value IF first qubit is 1\ncircuit.measure([0,1], [0,1])\n\nprovider = IBMQ.get_provider(\"ibm-q\")\n\nfor backend in provider.backends():\n    try:\n        qubit_count = len(backend.properties().qubits)\n    except:\n        qubit_count = \"simulated\"\n        \n    print(backend.name(), \"has\", backend.status().pending_jobs, \"qued and\", qubit_count, \"qubits\")\ncircuit.draw()"
    },
    {
      "cell_type": "code",
      "execution_count": null,
      "metadata": {
        "trusted": true
      },
      "outputs": [],
      "source": "from qiskit.tools.monitor import job_monitor\n\nbackend = provider.get_backend(\"ibmqx2\")\njob = q.execute(circuit, backend=backend, shots=500)\njob_monitor(job)\n\nfrom qiskit.visualization import plot_histogram\n\nresult = job.result()\ncounts = result.get_counts(circuit)\n\nplot_histogram([counts])"
    },
    {
      "cell_type": "code",
      "execution_count": null,
      "metadata": {
        "trusted": true
      },
      "outputs": [],
      "source": ""
    }
  ],
  "metadata": {
    "kernelspec": {
      "display_name": "Python 3",
      "language": "python",
      "name": "python3"
    },
    "language_info": {
      "codemirror_mode": {
        "name": "ipython",
        "version": 3
      },
      "file_extension": ".py",
      "mimetype": "text/x-python",
      "name": "python",
      "nbconvert_exporter": "python",
      "pygments_lexer": "ipython3",
      "version": "3.7.8"
    }
  },
  "nbformat": 4,
  "nbformat_minor": 4
}