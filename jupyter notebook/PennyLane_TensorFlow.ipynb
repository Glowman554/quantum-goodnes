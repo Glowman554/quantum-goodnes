{
  "nbformat": 4,
  "nbformat_minor": 0,
  "metadata": {
    "colab": {
      "name": "PennyLane TensorFlow",
      "provenance": []
    },
    "kernelspec": {
      "name": "python3",
      "display_name": "Python 3"
    }
  },
  "cells": [
    {
      "cell_type": "code",
      "metadata": {
        "id": "Ix0R_xFO1RbR",
        "outputId": "6f428406-ce93-4201-b0c3-e5ff5060c091",
        "colab": {
          "base_uri": "https://localhost:8080/"
        }
      },
      "source": [
        "!pip install pennylane pennylane-qiskit"
      ],
      "execution_count": 14,
      "outputs": [
        {
          "output_type": "stream",
          "text": [
            "Requirement already satisfied: pennylane in /usr/local/lib/python3.6/dist-packages (0.12.0)\n",
            "Requirement already satisfied: pennylane-qiskit in /usr/local/lib/python3.6/dist-packages (0.12.0)\n",
            "Requirement already satisfied: numpy in /usr/local/lib/python3.6/dist-packages (from pennylane) (1.18.5)\n",
            "Requirement already satisfied: semantic-version==2.6 in /usr/local/lib/python3.6/dist-packages (from pennylane) (2.6.0)\n",
            "Requirement already satisfied: autograd in /usr/local/lib/python3.6/dist-packages (from pennylane) (1.3)\n",
            "Requirement already satisfied: toml in /usr/local/lib/python3.6/dist-packages (from pennylane) (0.10.2)\n",
            "Requirement already satisfied: appdirs in /usr/local/lib/python3.6/dist-packages (from pennylane) (1.4.4)\n",
            "Requirement already satisfied: networkx in /usr/local/lib/python3.6/dist-packages (from pennylane) (2.5)\n",
            "Requirement already satisfied: scipy in /usr/local/lib/python3.6/dist-packages (from pennylane) (1.4.1)\n",
            "Requirement already satisfied: qiskit>=0.23 in /usr/local/lib/python3.6/dist-packages (from pennylane-qiskit) (0.23.0)\n",
            "Requirement already satisfied: future>=0.15.2 in /usr/local/lib/python3.6/dist-packages (from autograd->pennylane) (0.16.0)\n",
            "Requirement already satisfied: decorator>=4.3.0 in /usr/local/lib/python3.6/dist-packages (from networkx->pennylane) (4.4.2)\n",
            "Requirement already satisfied: qiskit-aqua==0.8.0 in /usr/local/lib/python3.6/dist-packages (from qiskit>=0.23->pennylane-qiskit) (0.8.0)\n",
            "Requirement already satisfied: qiskit-terra==0.16.0 in /usr/local/lib/python3.6/dist-packages (from qiskit>=0.23->pennylane-qiskit) (0.16.0)\n",
            "Requirement already satisfied: qiskit-ibmq-provider==0.11.0 in /usr/local/lib/python3.6/dist-packages (from qiskit>=0.23->pennylane-qiskit) (0.11.0)\n",
            "Requirement already satisfied: qiskit-ignis==0.5.0 in /usr/local/lib/python3.6/dist-packages (from qiskit>=0.23->pennylane-qiskit) (0.5.0)\n",
            "Requirement already satisfied: qiskit-aer==0.7.0 in /usr/local/lib/python3.6/dist-packages (from qiskit>=0.23->pennylane-qiskit) (0.7.0)\n",
            "Requirement already satisfied: pandas in /usr/local/lib/python3.6/dist-packages (from qiskit-aqua==0.8.0->qiskit>=0.23->pennylane-qiskit) (1.1.4)\n",
            "Requirement already satisfied: quandl in /usr/local/lib/python3.6/dist-packages (from qiskit-aqua==0.8.0->qiskit>=0.23->pennylane-qiskit) (3.5.3)\n",
            "Requirement already satisfied: dlx in /usr/local/lib/python3.6/dist-packages (from qiskit-aqua==0.8.0->qiskit>=0.23->pennylane-qiskit) (1.0.4)\n",
            "Requirement already satisfied: fastdtw in /usr/local/lib/python3.6/dist-packages (from qiskit-aqua==0.8.0->qiskit>=0.23->pennylane-qiskit) (0.3.4)\n",
            "Requirement already satisfied: yfinance in /usr/local/lib/python3.6/dist-packages (from qiskit-aqua==0.8.0->qiskit>=0.23->pennylane-qiskit) (0.1.55)\n",
            "Requirement already satisfied: sympy>=1.3 in /usr/local/lib/python3.6/dist-packages (from qiskit-aqua==0.8.0->qiskit>=0.23->pennylane-qiskit) (1.6.2)\n",
            "Requirement already satisfied: setuptools>=40.1.0 in /usr/local/lib/python3.6/dist-packages (from qiskit-aqua==0.8.0->qiskit>=0.23->pennylane-qiskit) (50.3.2)\n",
            "Requirement already satisfied: h5py in /usr/local/lib/python3.6/dist-packages (from qiskit-aqua==0.8.0->qiskit>=0.23->pennylane-qiskit) (2.10.0)\n",
            "Requirement already satisfied: scikit-learn>=0.20.0 in /usr/local/lib/python3.6/dist-packages (from qiskit-aqua==0.8.0->qiskit>=0.23->pennylane-qiskit) (0.22.2.post1)\n",
            "Requirement already satisfied: retworkx>=0.5.0 in /usr/local/lib/python3.6/dist-packages (from qiskit-aqua==0.8.0->qiskit>=0.23->pennylane-qiskit) (0.5.0)\n",
            "Requirement already satisfied: psutil>=5 in /usr/local/lib/python3.6/dist-packages (from qiskit-aqua==0.8.0->qiskit>=0.23->pennylane-qiskit) (5.4.8)\n",
            "Requirement already satisfied: docplex in /usr/local/lib/python3.6/dist-packages (from qiskit-aqua==0.8.0->qiskit>=0.23->pennylane-qiskit) (2.16.196)\n",
            "Requirement already satisfied: python-dateutil>=2.8.0 in /usr/local/lib/python3.6/dist-packages (from qiskit-terra==0.16.0->qiskit>=0.23->pennylane-qiskit) (2.8.1)\n",
            "Requirement already satisfied: dill>=0.3 in /usr/local/lib/python3.6/dist-packages (from qiskit-terra==0.16.0->qiskit>=0.23->pennylane-qiskit) (0.3.3)\n",
            "Requirement already satisfied: python-constraint>=1.4 in /usr/local/lib/python3.6/dist-packages (from qiskit-terra==0.16.0->qiskit>=0.23->pennylane-qiskit) (1.4.0)\n",
            "Requirement already satisfied: ply>=3.10 in /usr/local/lib/python3.6/dist-packages (from qiskit-terra==0.16.0->qiskit>=0.23->pennylane-qiskit) (3.11)\n",
            "Requirement already satisfied: contextvars>=2.4; python_version < \"3.7\" in /usr/local/lib/python3.6/dist-packages (from qiskit-terra==0.16.0->qiskit>=0.23->pennylane-qiskit) (2.4)\n",
            "Requirement already satisfied: jsonschema>=2.6 in /usr/local/lib/python3.6/dist-packages (from qiskit-terra==0.16.0->qiskit>=0.23->pennylane-qiskit) (2.6.0)\n",
            "Requirement already satisfied: fastjsonschema>=2.10 in /usr/local/lib/python3.6/dist-packages (from qiskit-terra==0.16.0->qiskit>=0.23->pennylane-qiskit) (2.14.5)\n",
            "Requirement already satisfied: nest-asyncio!=1.1.0,>=1.0.0 in /usr/local/lib/python3.6/dist-packages (from qiskit-ibmq-provider==0.11.0->qiskit>=0.23->pennylane-qiskit) (1.4.2)\n",
            "Requirement already satisfied: requests-ntlm>=1.1.0 in /usr/local/lib/python3.6/dist-packages (from qiskit-ibmq-provider==0.11.0->qiskit>=0.23->pennylane-qiskit) (1.1.0)\n",
            "Requirement already satisfied: requests>=2.19 in /usr/local/lib/python3.6/dist-packages (from qiskit-ibmq-provider==0.11.0->qiskit>=0.23->pennylane-qiskit) (2.23.0)\n",
            "Requirement already satisfied: websockets>=8 in /usr/local/lib/python3.6/dist-packages (from qiskit-ibmq-provider==0.11.0->qiskit>=0.23->pennylane-qiskit) (8.1)\n",
            "Requirement already satisfied: urllib3>=1.21.1 in /usr/local/lib/python3.6/dist-packages (from qiskit-ibmq-provider==0.11.0->qiskit>=0.23->pennylane-qiskit) (1.24.3)\n",
            "Requirement already satisfied: cython>=0.27.1 in /usr/local/lib/python3.6/dist-packages (from qiskit-aer==0.7.0->qiskit>=0.23->pennylane-qiskit) (0.29.21)\n",
            "Requirement already satisfied: pybind11>=2.4 in /usr/local/lib/python3.6/dist-packages (from qiskit-aer==0.7.0->qiskit>=0.23->pennylane-qiskit) (2.6.0)\n",
            "Requirement already satisfied: pytz>=2017.2 in /usr/local/lib/python3.6/dist-packages (from pandas->qiskit-aqua==0.8.0->qiskit>=0.23->pennylane-qiskit) (2018.9)\n",
            "Requirement already satisfied: inflection>=0.3.1 in /usr/local/lib/python3.6/dist-packages (from quandl->qiskit-aqua==0.8.0->qiskit>=0.23->pennylane-qiskit) (0.5.1)\n",
            "Requirement already satisfied: six in /usr/local/lib/python3.6/dist-packages (from quandl->qiskit-aqua==0.8.0->qiskit>=0.23->pennylane-qiskit) (1.15.0)\n",
            "Requirement already satisfied: more-itertools in /usr/local/lib/python3.6/dist-packages (from quandl->qiskit-aqua==0.8.0->qiskit>=0.23->pennylane-qiskit) (8.6.0)\n",
            "Requirement already satisfied: multitasking>=0.0.7 in /usr/local/lib/python3.6/dist-packages (from yfinance->qiskit-aqua==0.8.0->qiskit>=0.23->pennylane-qiskit) (0.0.9)\n",
            "Requirement already satisfied: lxml>=4.5.1 in /usr/local/lib/python3.6/dist-packages (from yfinance->qiskit-aqua==0.8.0->qiskit>=0.23->pennylane-qiskit) (4.6.1)\n",
            "Requirement already satisfied: mpmath>=0.19 in /usr/local/lib/python3.6/dist-packages (from sympy>=1.3->qiskit-aqua==0.8.0->qiskit>=0.23->pennylane-qiskit) (1.1.0)\n",
            "Requirement already satisfied: joblib>=0.11 in /usr/local/lib/python3.6/dist-packages (from scikit-learn>=0.20.0->qiskit-aqua==0.8.0->qiskit>=0.23->pennylane-qiskit) (0.17.0)\n",
            "Requirement already satisfied: immutables>=0.9 in /usr/local/lib/python3.6/dist-packages (from contextvars>=2.4; python_version < \"3.7\"->qiskit-terra==0.16.0->qiskit>=0.23->pennylane-qiskit) (0.14)\n",
            "Requirement already satisfied: ntlm-auth>=1.0.2 in /usr/local/lib/python3.6/dist-packages (from requests-ntlm>=1.1.0->qiskit-ibmq-provider==0.11.0->qiskit>=0.23->pennylane-qiskit) (1.5.0)\n",
            "Requirement already satisfied: cryptography>=1.3 in /usr/local/lib/python3.6/dist-packages (from requests-ntlm>=1.1.0->qiskit-ibmq-provider==0.11.0->qiskit>=0.23->pennylane-qiskit) (3.2.1)\n",
            "Requirement already satisfied: certifi>=2017.4.17 in /usr/local/lib/python3.6/dist-packages (from requests>=2.19->qiskit-ibmq-provider==0.11.0->qiskit>=0.23->pennylane-qiskit) (2020.6.20)\n",
            "Requirement already satisfied: chardet<4,>=3.0.2 in /usr/local/lib/python3.6/dist-packages (from requests>=2.19->qiskit-ibmq-provider==0.11.0->qiskit>=0.23->pennylane-qiskit) (3.0.4)\n",
            "Requirement already satisfied: idna<3,>=2.5 in /usr/local/lib/python3.6/dist-packages (from requests>=2.19->qiskit-ibmq-provider==0.11.0->qiskit>=0.23->pennylane-qiskit) (2.10)\n",
            "Requirement already satisfied: cffi!=1.11.3,>=1.8 in /usr/local/lib/python3.6/dist-packages (from cryptography>=1.3->requests-ntlm>=1.1.0->qiskit-ibmq-provider==0.11.0->qiskit>=0.23->pennylane-qiskit) (1.14.3)\n",
            "Requirement already satisfied: pycparser in /usr/local/lib/python3.6/dist-packages (from cffi!=1.11.3,>=1.8->cryptography>=1.3->requests-ntlm>=1.1.0->qiskit-ibmq-provider==0.11.0->qiskit>=0.23->pennylane-qiskit) (2.20)\n"
          ],
          "name": "stdout"
        }
      ]
    },
    {
      "cell_type": "code",
      "metadata": {
        "id": "0bNdybut1U15",
        "outputId": "c5012b65-45bc-4fb8-9311-49f32f845f28",
        "colab": {
          "base_uri": "https://localhost:8080/",
          "height": 248
        }
      },
      "source": [
        "import tensorflow as tf\n",
        "import matplotlib.pyplot as plt\n",
        "from sklearn.datasets import make_moons\n",
        "\n",
        "X, y = make_moons(n_samples=200, noise=0.1)\n",
        "y_hot = tf.keras.utils.to_categorical(y, num_classes=2)  # one-hot encoded labels\n",
        "\n",
        "c = [\"#1f77b4\" if y_ == 0 else \"#ff7f0e\" for y_ in y]  # colours for each class\n",
        "plt.axis(\"off\")\n",
        "plt.scatter(X[:, 0], X[:, 1], c=c)\n",
        "plt.show()"
      ],
      "execution_count": 15,
      "outputs": [
        {
          "output_type": "display_data",
          "data": {
            "image/png": "[encoded data removed]",
            "text/plain": [
              "<Figure size 432x288 with 1 Axes>"
            ]
          },
          "metadata": {
            "tags": [],
            "needs_background": "light"
          }
        }
      ]
    },
    {
      "cell_type": "code",
      "metadata": {
        "id": "OXH8Qxr61YNs"
      },
      "source": [
        "import pennylane as qml\n",
        "\n",
        "n_qubits = 2\n",
        "dev = qml.device(\"qiskit.aer\", wires=n_qubits)\n",
        "\n",
        "@qml.qnode(dev)\n",
        "def qnode(inputs, weights):\n",
        "    qml.templates.AngleEmbedding(inputs, wires=range(n_qubits))\n",
        "    qml.templates.BasicEntanglerLayers(weights, wires=range(n_qubits))\n",
        "    return [qml.expval(qml.PauliZ(wires=i)) for i in range(n_qubits)]"
      ],
      "execution_count": 16,
      "outputs": []
    },
    {
      "cell_type": "code",
      "metadata": {
        "id": "Z7BrLozf1idF"
      },
      "source": [
        "n_layers = 6\n",
        "weight_shapes = {\"weights\": (n_layers, n_qubits)}\n",
        "qlayer = qml.qnn.KerasLayer(qnode, weight_shapes, output_dim=n_qubits)"
      ],
      "execution_count": 17,
      "outputs": []
    },
    {
      "cell_type": "code",
      "metadata": {
        "id": "DMSH9GLp2E1y",
        "outputId": "48929fea-5bd3-4075-be22-b9d7eaf5a6c0",
        "colab": {
          "base_uri": "https://localhost:8080/"
        }
      },
      "source": [
        "clayer_1 = tf.keras.layers.Dense(2)\n",
        "clayer_2 = tf.keras.layers.Dense(2, activation=\"softmax\")\n",
        "model = tf.keras.models.Sequential([clayer_1, qlayer, clayer_2])\n",
        "opt = tf.keras.optimizers.SGD(learning_rate=0.2)\n",
        "model.compile(opt, loss=\"mae\", metrics=[\"accuracy\"])\n",
        "X = X.astype(\"float32\")\n",
        "y_hot = y_hot.astype(\"float32\")\n",
        "fitting = model.fit(X, y_hot, epochs=3, batch_size=2, validation_split=0.25, verbose=1)"
      ],
      "execution_count": 18,
      "outputs": [
        {
          "output_type": "stream",
          "text": [
            "Epoch 1/3\n",
            "75/75 [==============================] - 83s 1s/step - loss: 0.2759 - accuracy: 0.7867 - val_loss: 0.2074 - val_accuracy: 0.8200\n",
            "Epoch 2/3\n",
            "75/75 [==============================] - 83s 1s/step - loss: 0.1820 - accuracy: 0.8533 - val_loss: 0.2135 - val_accuracy: 0.7800\n",
            "Epoch 3/3\n",
            "75/75 [==============================] - 83s 1s/step - loss: 0.1729 - accuracy: 0.8333 - val_loss: 0.1612 - val_accuracy: 0.8400\n"
          ],
          "name": "stdout"
        }
      ]
    }
  ]
}