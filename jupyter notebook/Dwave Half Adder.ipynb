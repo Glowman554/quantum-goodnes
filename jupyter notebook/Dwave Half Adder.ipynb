{
 "cells": [
  {
   "cell_type": "code",
   "execution_count": 16,
   "metadata": {},
   "outputs": [],
   "source": [
    "from dwave.system import DWaveSampler, EmbeddingComposite\n",
    "from dwavebinarycsp.factories import and_gate, xor_gate\n",
    "import dwavebinarycsp as dbc\n",
    "import dwave.inspector"
   ]
  },
  {
   "cell_type": "code",
   "execution_count": 21,
   "metadata": {},
   "outputs": [],
   "source": [
    "gates = []\n",
    "csp = dbc.ConstraintSatisfactionProblem('BINARY')\n",
    "\n",
    "gates.append(xor_gate([\"a\", \"b\", \"sum\"]))\n",
    "gates.append(and_gate([\"a\", \"b\", \"carry\"]))\n",
    "\n",
    "for i in gates:\n",
    "    csp.add_constraint(i)\n",
    "    \n",
    "bqm = dbc.stitch(csp)"
   ]
  },
  {
   "cell_type": "code",
   "execution_count": 27,
   "metadata": {},
   "outputs": [
    {
     "name": "stdout",
     "output_type": "stream",
     "text": [
      "   a aux0 aux1  b carry sum energy num_oc. chain_b.\n",
      "1  1    0    0  1     1   0   -0.0       1      0.0\n",
      "0  1    0    0  0     0   1    0.0       7 0.166667\n",
      "2  0    0    1  1     0   1    0.0       1      0.0\n",
      "3  0    1    0  0     0   0    0.0       1      0.0\n",
      "['BINARY', 4 rows, 10 samples, 6 variables]\n"
     ]
    }
   ],
   "source": [
    "sampler = EmbeddingComposite(DWaveSampler(solver={\"qpu\" : True}))\n",
    "sampleset = sampler.sample(bqm, num_reads=10)\n",
    "print(sampleset)"
   ]
  }
 ],
 "metadata": {
  "kernelspec": {
   "display_name": "Python 3",
   "language": "python",
   "name": "python3"
  },
  "language_info": {
   "codemirror_mode": {
    "name": "ipython",
    "version": 3
   },
   "file_extension": ".py",
   "mimetype": "text/x-python",
   "name": "python",
   "nbconvert_exporter": "python",
   "pygments_lexer": "ipython3",
   "version": "3.6.7"
  },
  "toc": {
   "base_numbering": 1,
   "nav_menu": {},
   "number_sections": true,
   "sideBar": true,
   "skip_h1_title": false,
   "title_cell": "Table of Contents",
   "title_sidebar": "Contents",
   "toc_cell": false,
   "toc_position": {},
   "toc_section_display": true,
   "toc_window_display": false
  }
 },
 "nbformat": 4,
 "nbformat_minor": 2
}
